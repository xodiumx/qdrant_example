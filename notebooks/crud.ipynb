{
 "cells": [
  {
   "cell_type": "code",
   "execution_count": null,
   "id": "dd137095",
   "metadata": {},
   "outputs": [],
   "source": [
    "from langchain.vectorstores import Qdrant\n",
    "from langchain.embeddings import HuggingFaceEmbeddings\n",
    "from langchain.schema import Document"
   ]
  },
  {
   "cell_type": "code",
   "execution_count": null,
   "id": "a3b619a2",
   "metadata": {},
   "outputs": [],
   "source": [
    "# Инициализация модели для эмбеддингов\n",
    "embeddings = HuggingFaceEmbeddings(model_name=\"ai-forever/sbert_large_nlu_ru\")"
   ]
  },
  {
   "cell_type": "markdown",
   "id": "329f0f3b",
   "metadata": {},
   "source": [
    "# Create docs\n",
    "____"
   ]
  },
  {
   "cell_type": "code",
   "execution_count": null,
   "id": "d89a660d",
   "metadata": {},
   "outputs": [],
   "source": [
    "from datasets import load_dataset\n",
    "\n",
    "dataset = load_dataset(\"RussianNLP/Mixed-Summarization-Dataset\")\n",
    "dataset"
   ]
  },
  {
   "cell_type": "code",
   "execution_count": null,
   "id": "02ae65c9",
   "metadata": {},
   "outputs": [],
   "source": [
    "# Создаем список документов (можно заменить на загрузку из файла)\n",
    "def create_docs(dataset, num_samples=6_000, seed=42):\n",
    "    texts = dataset[\"train\"].shuffle(seed=seed).select(range(num_samples))\n",
    "    documents = [\n",
    "        Document(\n",
    "            page_content=doc[\"text\"],\n",
    "            metadata={\"source\": \"wiki_ai\", \"page\": i} # doc id\n",
    "        )\n",
    "        for i, doc in enumerate(texts)\n",
    "    ]\n",
    "    return documents"
   ]
  },
  {
   "cell_type": "code",
   "execution_count": null,
   "id": "94633a56",
   "metadata": {},
   "outputs": [],
   "source": [
    "num_samples = 20_000\n",
    "documents = create_docs(dataset=dataset, num_samples=num_samples)\n",
    "documents[:3]"
   ]
  },
  {
   "cell_type": "code",
   "execution_count": null,
   "id": "561c67e3",
   "metadata": {},
   "outputs": [],
   "source": [
    "from langchain.text_splitter import RecursiveCharacterTextSplitter\n",
    "\n",
    "text_splitter = RecursiveCharacterTextSplitter(\n",
    "    chunk_size=1000,\n",
    "    chunk_overlap=200,\n",
    "    separators=[\"\\n\\n\", \"\\n\", \" \"]\n",
    ")\n",
    "texts = text_splitter.split_documents(documents)\n",
    "texts"
   ]
  },
  {
   "cell_type": "code",
   "execution_count": null,
   "id": "7db6d788",
   "metadata": {},
   "outputs": [],
   "source": [
    "# Создаем или подключаемся к коллекции в Qdrant\n",
    "qdrant_db = Qdrant.from_documents(\n",
    "    documents=texts,\n",
    "    embedding=embeddings,\n",
    "    url=\"http://localhost:6333\",  # Адрес Qdrant\n",
    "    collection_name=\"ai_documents\",\n",
    "    force_recreate=True  # Пересоздать коллекцию если существует\n",
    ")"
   ]
  }
 ],
 "metadata": {
  "kernelspec": {
   "display_name": ".venv",
   "language": "python",
   "name": "python3"
  },
  "language_info": {
   "codemirror_mode": {
    "name": "ipython",
    "version": 3
   },
   "file_extension": ".py",
   "mimetype": "text/x-python",
   "name": "python",
   "nbconvert_exporter": "python",
   "pygments_lexer": "ipython3",
   "version": "3.13.2"
  }
 },
 "nbformat": 4,
 "nbformat_minor": 5
}
