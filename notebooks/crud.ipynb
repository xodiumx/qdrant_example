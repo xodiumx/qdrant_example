{
 "cells": [
  {
   "cell_type": "code",
   "execution_count": 1,
   "id": "dd137095",
   "metadata": {},
   "outputs": [],
   "source": [
    "from langchain.vectorstores import Qdrant\n",
    "from langchain.embeddings import HuggingFaceEmbeddings\n",
    "from langchain.schema import Document"
   ]
  },
  {
   "cell_type": "code",
   "execution_count": 11,
   "id": "a3b619a2",
   "metadata": {},
   "outputs": [
    {
     "name": "stderr",
     "output_type": "stream",
     "text": [
      "No sentence-transformers model found with name blanchefort/rubert-base-cased-sentiment-mokoron. Creating a new one with mean pooling.\n"
     ]
    }
   ],
   "source": [
    "# Инициализация модели для эмбеддингов\n",
    "embeddings = HuggingFaceEmbeddings(model_name=\"blanchefort/rubert-base-cased-sentiment-mokoron\")"
   ]
  },
  {
   "cell_type": "markdown",
   "id": "329f0f3b",
   "metadata": {},
   "source": [
    "# Create docs\n",
    "____"
   ]
  },
  {
   "cell_type": "code",
   "execution_count": 4,
   "id": "d89a660d",
   "metadata": {},
   "outputs": [
    {
     "data": {
      "text/plain": [
       "DatasetDict({\n",
       "    train: Dataset({\n",
       "        features: ['sample'],\n",
       "        num_rows: 6284\n",
       "    })\n",
       "})"
      ]
     },
     "execution_count": 4,
     "metadata": {},
     "output_type": "execute_result"
    }
   ],
   "source": [
    "from datasets import load_dataset\n",
    "\n",
    "dataset = load_dataset(\"Den4ikAI/russian_cleared_wikipedia\")\n",
    "dataset"
   ]
  },
  {
   "cell_type": "code",
   "execution_count": 9,
   "id": "02ae65c9",
   "metadata": {},
   "outputs": [],
   "source": [
    "# Создаем список документов (можно заменить на загрузку из файла)\n",
    "def create_docs(dataset, num_samples=6_000, seed=42):\n",
    "    texts = dataset[\"train\"].shuffle(seed=seed).select(range(num_samples))\n",
    "    documents = [\n",
    "        Document(\n",
    "            page_content=doc[\"sample\"],\n",
    "            metadata={\"source\": \"wiki_ai\", \"page\": i}\n",
    "        )\n",
    "        for i, doc in enumerate(texts)\n",
    "    ]\n",
    "    return documents"
   ]
  },
  {
   "cell_type": "code",
   "execution_count": 10,
   "id": "94633a56",
   "metadata": {},
   "outputs": [],
   "source": [
    "documents = create_docs(dataset=dataset)"
   ]
  },
  {
   "cell_type": "code",
   "execution_count": 12,
   "id": "7db6d788",
   "metadata": {},
   "outputs": [],
   "source": [
    "# Создаем или подключаемся к коллекции в Qdrant\n",
    "qdrant_db = Qdrant.from_documents(\n",
    "    documents=documents,\n",
    "    embedding=embeddings,\n",
    "    url=\"http://localhost:6333\",  # Адрес Qdrant\n",
    "    collection_name=\"ai_documents\",\n",
    "    force_recreate=True  # Пересоздать коллекцию если существует\n",
    ")"
   ]
  }
 ],
 "metadata": {
  "kernelspec": {
   "display_name": ".venv",
   "language": "python",
   "name": "python3"
  },
  "language_info": {
   "codemirror_mode": {
    "name": "ipython",
    "version": 3
   },
   "file_extension": ".py",
   "mimetype": "text/x-python",
   "name": "python",
   "nbconvert_exporter": "python",
   "pygments_lexer": "ipython3",
   "version": "3.13.2"
  }
 },
 "nbformat": 4,
 "nbformat_minor": 5
}
