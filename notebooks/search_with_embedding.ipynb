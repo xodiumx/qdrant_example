{
 "cells": [
  {
   "cell_type": "code",
   "execution_count": null,
   "id": "90fbbcd5",
   "metadata": {},
   "outputs": [],
   "source": [
    "from langchain_community.embeddings import HuggingFaceEmbeddings\n",
    "from langchain_community.vectorstores import Qdrant\n",
    "\n",
    "from qdrant_client import QdrantClient"
   ]
  },
  {
   "cell_type": "code",
   "execution_count": null,
   "id": "09bb5f71",
   "metadata": {},
   "outputs": [],
   "source": [
    "# Создание эмбеддингов и векторного хранилища\n",
    "embeddings = HuggingFaceEmbeddings(model_name=\"ai-forever/sbert_large_nlu_ru\")"
   ]
  },
  {
   "cell_type": "code",
   "execution_count": null,
   "id": "12f8f23c",
   "metadata": {},
   "outputs": [],
   "source": [
    "# Create client\n",
    "qdrant_client = QdrantClient(host=\"localhost\", port=6333)"
   ]
  },
  {
   "cell_type": "code",
   "execution_count": null,
   "id": "1d1a40d5",
   "metadata": {},
   "outputs": [],
   "source": [
    "qdrant = Qdrant(\n",
    "    client=qdrant_client,\n",
    "    collection_name=\"ai_documents\",\n",
    "    embeddings=embeddings,\n",
    ")"
   ]
  },
  {
   "cell_type": "code",
   "execution_count": null,
   "id": "1836f423",
   "metadata": {},
   "outputs": [],
   "source": [
    "query = \"сколько составляет Поездка по трассе М25?\"\n",
    "found_docs = qdrant.similarity_search(query, k=5)\n",
    "\n",
    "for doc in found_docs:\n",
    "    print(doc.metadata)\n",
    "    print(doc.page_content)\n",
    "    print(\"---\")"
   ]
  },
  {
   "cell_type": "code",
   "execution_count": null,
   "id": "e4384c96",
   "metadata": {},
   "outputs": [],
   "source": [
    "query = \"сколько составляет Поездка по трассе М25?\"\n",
    "results = qdrant.similarity_search_with_score(query, k=7)\n",
    "\n",
    "for doc, score in results:\n",
    "    print(f\"Score: {score:.4f}\")\n",
    "    print(doc.page_content)\n",
    "    print(\"---\")"
   ]
  }
 ],
 "metadata": {
  "kernelspec": {
   "display_name": ".venv",
   "language": "python",
   "name": "python3"
  },
  "language_info": {
   "codemirror_mode": {
    "name": "ipython",
    "version": 3
   },
   "file_extension": ".py",
   "mimetype": "text/x-python",
   "name": "python",
   "nbconvert_exporter": "python",
   "pygments_lexer": "ipython3",
   "version": "3.13.2"
  }
 },
 "nbformat": 4,
 "nbformat_minor": 5
}
