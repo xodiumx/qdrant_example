{
 "cells": [
  {
   "cell_type": "code",
   "execution_count": null,
   "id": "8c813c12",
   "metadata": {},
   "outputs": [],
   "source": [
    "# todo"
   ]
  }
 ],
 "metadata": {
  "language_info": {
   "name": "python"
  }
 },
 "nbformat": 4,
 "nbformat_minor": 5
}
